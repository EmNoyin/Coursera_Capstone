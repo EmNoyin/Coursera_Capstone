{
    "cells": [
        {
            "cell_type": "markdown",
            "metadata": {
                "collapsed": true
            },
            "source": "<h1 align=center><font size = 5>Segmenting and Clustering Neighborhoods in Toronto, Canada</font></h1>"
        },
        {
            "cell_type": "markdown",
            "metadata": {},
            "source": "*Library import section:*"
        },
        {
            "cell_type": "code",
            "execution_count": 91,
            "metadata": {},
            "outputs": [
                {
                    "name": "stdout",
                    "output_type": "stream",
                    "text": "Libraries imported.\n"
                }
            ],
            "source": "import numpy as np # library to handle data in a vectorized manner\nimport pandas as pd # library for data analsysis\n\nimport requests\nfrom bs4 import BeautifulSoup # library for scraping\n\n\nprint('Libraries imported.')"
        },
        {
            "cell_type": "markdown",
            "metadata": {},
            "source": "*Source scrape URL:*"
        },
        {
            "cell_type": "code",
            "execution_count": 92,
            "metadata": {},
            "outputs": [],
            "source": "source = \"https://en.wikipedia.org/wiki/List_of_postal_codes_of_Canada:_M\""
        },
        {
            "cell_type": "markdown",
            "metadata": {},
            "source": "*Import and transform the source URL, to a dataframe with given bounderies:*"
        },
        {
            "cell_type": "code",
            "execution_count": 257,
            "metadata": {
                "scrolled": true
            },
            "outputs": [
                {
                    "name": "stdout",
                    "output_type": "stream",
                    "text": "(287, 3)\n"
                }
            ],
            "source": "#scrape Wiki\nres = requests.get(source)\nsoup = BeautifulSoup(res.content,'lxml')\ntable = soup.find_all('table')[0] \ndf = pd.read_html(str(table))[0]\n\n\n#create list of the scraped inforation\npostcode = df[\"Postcode\"].tolist()\nborough = df[\"Borough\"].tolist()\nneighborhood = df[\"Neighbourhood\"].tolist()\n\n#create DataFrame from Scraped table\nsourceDF = pd.DataFrame(list(zip(postcode,borough,neighborhood)), columns =['PostalCode', 'Borough','Neighbourhood']) \nprint(sourceDF.shape)\n\n#remove lines where 'Borough' is Not Assigned\nsourceDF = sourceDF[sourceDF.Borough != 'Not assigned']\nsourceDF.index = np.arange(0, len(sourceDF))\n\n#if Neighbourhood is 'Not assigned' replace value with whatis stored in 'Borough'\nsourceDF['Neighbourhood'] = np.where(sourceDF['Neighbourhood'] == 'Not assigned', sourceDF['Borough'], sourceDF['Neighbourhood'])\n\n#Group by to combine Neighbourhood in the same 'PostalCode' and 'Borough'\nsourceDF = sourceDF.groupby (['PostalCode', 'Borough'], as_index=False).agg(lambda x: ', '.join(x))"
        },
        {
            "cell_type": "code",
            "execution_count": 318,
            "metadata": {},
            "outputs": [
                {
                    "data": {
                        "text/html": "<div>\n<style scoped>\n    .dataframe tbody tr th:only-of-type {\n        vertical-align: middle;\n    }\n\n    .dataframe tbody tr th {\n        vertical-align: top;\n    }\n\n    .dataframe thead th {\n        text-align: right;\n    }\n</style>\n<table border=\"1\" class=\"dataframe\">\n  <thead>\n    <tr style=\"text-align: right;\">\n      <th></th>\n      <th>PostalCode</th>\n      <th>Borough</th>\n      <th>Neighbourhood</th>\n    </tr>\n  </thead>\n  <tbody>\n    <tr>\n      <th>0</th>\n      <td>M1B</td>\n      <td>Scarborough</td>\n      <td>Rouge, Malvern</td>\n    </tr>\n    <tr>\n      <th>1</th>\n      <td>M1C</td>\n      <td>Scarborough</td>\n      <td>Highland Creek, Rouge Hill, Port Union</td>\n    </tr>\n    <tr>\n      <th>2</th>\n      <td>M1E</td>\n      <td>Scarborough</td>\n      <td>Guildwood, Morningside, West Hill</td>\n    </tr>\n    <tr>\n      <th>3</th>\n      <td>M1G</td>\n      <td>Scarborough</td>\n      <td>Woburn</td>\n    </tr>\n    <tr>\n      <th>4</th>\n      <td>M1H</td>\n      <td>Scarborough</td>\n      <td>Cedarbrae</td>\n    </tr>\n    <tr>\n      <th>5</th>\n      <td>M1J</td>\n      <td>Scarborough</td>\n      <td>Scarborough Village</td>\n    </tr>\n    <tr>\n      <th>6</th>\n      <td>M1K</td>\n      <td>Scarborough</td>\n      <td>East Birchmount Park, Ionview, Kennedy Park</td>\n    </tr>\n    <tr>\n      <th>7</th>\n      <td>M1L</td>\n      <td>Scarborough</td>\n      <td>Clairlea, Golden Mile, Oakridge</td>\n    </tr>\n    <tr>\n      <th>8</th>\n      <td>M1M</td>\n      <td>Scarborough</td>\n      <td>Cliffcrest, Cliffside, Scarborough Village West</td>\n    </tr>\n    <tr>\n      <th>9</th>\n      <td>M1N</td>\n      <td>Scarborough</td>\n      <td>Birch Cliff, Cliffside West</td>\n    </tr>\n    <tr>\n      <th>10</th>\n      <td>M1P</td>\n      <td>Scarborough</td>\n      <td>Dorset Park, Scarborough Town Centre, Wexford ...</td>\n    </tr>\n    <tr>\n      <th>11</th>\n      <td>M1R</td>\n      <td>Scarborough</td>\n      <td>Maryvale, Wexford</td>\n    </tr>\n    <tr>\n      <th>12</th>\n      <td>M1S</td>\n      <td>Scarborough</td>\n      <td>Agincourt</td>\n    </tr>\n    <tr>\n      <th>13</th>\n      <td>M1T</td>\n      <td>Scarborough</td>\n      <td>Clarks Corners, Sullivan, Tam O'Shanter</td>\n    </tr>\n    <tr>\n      <th>14</th>\n      <td>M1V</td>\n      <td>Scarborough</td>\n      <td>Agincourt North, L'Amoreaux East, Milliken, St...</td>\n    </tr>\n    <tr>\n      <th>15</th>\n      <td>M1W</td>\n      <td>Scarborough</td>\n      <td>L'Amoreaux West</td>\n    </tr>\n    <tr>\n      <th>16</th>\n      <td>M1X</td>\n      <td>Scarborough</td>\n      <td>Upper Rouge</td>\n    </tr>\n    <tr>\n      <th>17</th>\n      <td>M2H</td>\n      <td>North York</td>\n      <td>Hillcrest Village</td>\n    </tr>\n    <tr>\n      <th>18</th>\n      <td>M2J</td>\n      <td>North York</td>\n      <td>Fairview, Henry Farm, Oriole</td>\n    </tr>\n    <tr>\n      <th>19</th>\n      <td>M2K</td>\n      <td>North York</td>\n      <td>Bayview Village</td>\n    </tr>\n  </tbody>\n</table>\n</div>",
                        "text/plain": "   PostalCode      Borough                                      Neighbourhood\n0         M1B  Scarborough                                     Rouge, Malvern\n1         M1C  Scarborough             Highland Creek, Rouge Hill, Port Union\n2         M1E  Scarborough                  Guildwood, Morningside, West Hill\n3         M1G  Scarborough                                             Woburn\n4         M1H  Scarborough                                          Cedarbrae\n5         M1J  Scarborough                                Scarborough Village\n6         M1K  Scarborough        East Birchmount Park, Ionview, Kennedy Park\n7         M1L  Scarborough                    Clairlea, Golden Mile, Oakridge\n8         M1M  Scarborough    Cliffcrest, Cliffside, Scarborough Village West\n9         M1N  Scarborough                        Birch Cliff, Cliffside West\n10        M1P  Scarborough  Dorset Park, Scarborough Town Centre, Wexford ...\n11        M1R  Scarborough                                  Maryvale, Wexford\n12        M1S  Scarborough                                          Agincourt\n13        M1T  Scarborough            Clarks Corners, Sullivan, Tam O'Shanter\n14        M1V  Scarborough  Agincourt North, L'Amoreaux East, Milliken, St...\n15        M1W  Scarborough                                    L'Amoreaux West\n16        M1X  Scarborough                                        Upper Rouge\n17        M2H   North York                                  Hillcrest Village\n18        M2J   North York                       Fairview, Henry Farm, Oriole\n19        M2K   North York                                    Bayview Village"
                    },
                    "execution_count": 318,
                    "metadata": {},
                    "output_type": "execute_result"
                }
            ],
            "source": "sourceDF.head(20)"
        },
        {
            "cell_type": "code",
            "execution_count": 250,
            "metadata": {
                "scrolled": true
            },
            "outputs": [
                {
                    "data": {
                        "text/plain": "(103, 1)"
                    },
                    "execution_count": 250,
                    "metadata": {},
                    "output_type": "execute_result"
                }
            ],
            "source": "sourceDF.shape"
        },
        {
            "cell_type": "code",
            "execution_count": 259,
            "metadata": {},
            "outputs": [
                {
                    "name": "stdout",
                    "output_type": "stream",
                    "text": "Solving environment: done\n\n## Package Plan ##\n\n  environment location: /opt/conda/envs/Python36\n\n  added / updated specs: \n    - geocoder\n\n\nThe following packages will be downloaded:\n\n    package                    |            build\n    ---------------------------|-----------------\n    geocoder-1.38.1            |             py_1          53 KB  conda-forge\n    ratelim-0.1.6              |             py_2           6 KB  conda-forge\n    ------------------------------------------------------------\n                                           Total:          59 KB\n\nThe following NEW packages will be INSTALLED:\n\n    geocoder: 1.38.1-py_1 conda-forge\n    ratelim:  0.1.6-py_2  conda-forge\n\n\nDownloading and Extracting Packages\ngeocoder-1.38.1      | 53 KB     | ##################################### | 100% \nratelim-0.1.6        | 6 KB      | ##################################### | 100% \nPreparing transaction: done\nVerifying transaction: done\nExecuting transaction: done\n"
                }
            ],
            "source": "!conda install -c conda-forge geocoder -y"
        },
        {
            "cell_type": "code",
            "execution_count": 296,
            "metadata": {},
            "outputs": [
                {
                    "name": "stdout",
                    "output_type": "stream",
                    "text": "43.811525000000074 -79.19551746399998\n"
                }
            ],
            "source": "# initialize your variable to None\nlat_lng_coords = None\npostal_code='M1B'\n\n# loop until you get the coordinates\nwhile(lat_lng_coords is None):\n    g = geocoder.arcgis('{}, Toronto, Ontario'.format(postal_code))\n    lat_lng_coords = g.latlng\nif lat_lng_coords != None:\n    latitude = lat_lng_coords[0]\n    longitude = lat_lng_coords[1]\n    print(latitude,longitude)"
        },
        {
            "cell_type": "code",
            "execution_count": 317,
            "metadata": {},
            "outputs": [
                {
                    "name": "stdout",
                    "output_type": "stream",
                    "text": "M1B\n43.811525000000074 43.811525000000074\nM1C\n43.78566500000005 43.78566500000005\nM1E\n43.76581500000003 43.76581500000003\nM1G\n43.768369121000035 43.768369121000035\nM1H\n43.76968799900004 43.76968799900004\nM1J\n43.74312500000008 43.74312500000008\nM1K\n43.72627568400003 43.72627568400003\nM1L\n43.71305350000006 43.71305350000006\nM1M\n43.724234575000025 43.724234575000025\nM1N\n43.69677000000007 43.69677000000007\nM1P\n43.759975000000054 43.759975000000054\nM1R\n43.750710464000065 43.750710464000065\nM1S\n43.79394000000008 43.79394000000008\nM1T\n43.78472500000004 43.78472500000004\nM1V\n43.81768500000004 43.81768500000004\nM1W\n43.80088292800008 43.80088292800008\nM1X\n43.83421500000003 43.83421500000003\nM2H\n43.80284500000005 43.80284500000005\nM2J\n43.780970000000025 43.780970000000025\nM2K\n43.781015000000025 43.781015000000025\nM2L\n43.75709511900004 43.75709511900004\nM2M\n43.79147500000005 43.79147500000005\nM2N\n43.76816500000007 43.76816500000007\nM2P\n43.74789500000003 43.74789500000003\nM2R\n43.77769500000005 43.77769500000005\nM3A\n43.75242000000003 43.75242000000003\nM3B\n43.749055000000055 43.749055000000055\nM3C\n43.72142500000007 43.72142500000007\nM3H\n43.75787500000007 43.75787500000007\nM3J\n43.76476500000007 43.76476500000007\nM3K\n43.73868500000003 43.73868500000003\nM3L\n43.720140111000035 43.720140111000035\nM3M\n43.73369000000008 43.73369000000008\nM3N\n43.75537065200007 43.75537065200007\nM4A\n43.73060024600005 43.73060024600005\nM4B\n43.707535000000064 43.707535000000064\nM4C\n43.689640000000054 43.689640000000054\nM4E\n43.67653121600006 43.67653121600006\nM4G\n43.70949500000006 43.70949500000006\nM4H\n43.70124000000004 43.70124000000004\nM4J\n43.688765344000046 43.688765344000046\nM4K\n43.68317787500007 43.68317787500007\nM4L\n43.66796500000004 43.66796500000004\nM4M\n43.660628993000046 43.660628993000046\nM4N\n43.72842000000003 43.72842000000003\nM4P\n43.71275500000007 43.71275500000007\nM4R\n43.71452278400005 43.71452278400005\nM4S\n43.70339500000006 43.70339500000006\nM4T\n43.69068500000003 43.69068500000003\nM4V\n43.68607377100005 43.68607377100005\nM4W\n43.68220500000007 43.68220500000007\nM4X\n43.66816000000006 43.66816000000006\nM4Y\n43.666585000000055 43.666585000000055\nM5A\n43.65029500000003 43.65029500000003\nM5B\n43.65736301100003 43.65736301100003\nM5C\n43.65121000000005 43.65121000000005\nM5E\n43.64516015600003 43.64516015600003\nM5G\n43.65609081300005 43.65609081300005\nM5H\n43.64970000000005 43.64970000000005\nM5J\n43.630210000000034 43.630210000000034\nM5K\n43.64710000000008 43.64710000000008\nM5L\n43.64839500000005 43.64839500000005\nM5M\n43.735460000000046 43.735460000000046\nM5N\n43.711941154000044 43.711941154000044\nM5P\n43.69478500000008 43.69478500000008\nM5R\n43.674840000000074 43.674840000000074\nM5S\n43.663110000000074 43.663110000000074\nM5T\n43.653530000000046 43.653530000000046\nM5V\n43.64081500000003 43.64081500000003\nM5W\n43.648690000000045 43.648690000000045\nM5X\n43.64828000000006 43.64828000000006\nM6A\n43.72327000000007 43.72327000000007\nM6B\n43.70799000000005 43.70799000000005\nM6C\n43.69210517800008 43.69210517800008\nM6E\n43.68864000000008 43.68864000000008\nM6G\n43.66878132800008 43.66878132800008\nM6H\n43.66508694300006 43.66508694300006\nM6J\n43.64852500000006 43.64852500000006\nM6K\n43.639410000000055 43.639410000000055\nM6L\n43.71381000000008 43.71381000000008\nM6M\n43.69453000000004 43.69453000000004\nM6N\n43.67612500000007 43.67612500000007\nM6P\n43.659935000000075 43.659935000000075\nM6R\n43.64787000000007 43.64787000000007\nM6S\n43.64962000000003 43.64962000000003\nM7A\n43.66115033500006 43.66115033500006\nM7R\n43.648690000000045 43.648690000000045\nM7Y\n43.648690000000045 43.648690000000045\nM8V\n43.61220000000003 43.61220000000003\nM8W\n43.60113082100003 43.60113082100003\nM8X\n43.653760000000034 43.653760000000034\nM8Y\n43.63283500000006 43.63283500000006\nM8Z\n43.624630000000025 43.624630000000025\nM9A\n43.66229908300005 43.66229908300005\nM9B\n43.65034698100004 43.65034698100004\nM9C\n43.648573449000025 43.648573449000025\nM9L\n43.75950000000006 43.75950000000006\nM9M\n43.73370500000004 43.73370500000004\nM9N\n43.704845000000034 43.704845000000034\nM9P\n43.69650500000006 43.69650500000006\nM9R\n43.68681000000004 43.68681000000004\nM9V\n43.74314500000003 43.74314500000003\nM9W\n43.71174000000008 43.71174000000008\n"
                }
            ],
            "source": "#Loop trough all values in postcode column\nimport geocoder # import geocoder\n\n# initialize your variable to None\nlat_lng_coords = None\n\nfor column in sourceDF:\n   # Select column contents by column name using [] operator\n    columnSeriesObj = sourceDF['PostalCode']\n    postal_codeSTR = columnSeriesObj.values\n\npostal_code = postal_codeSTR.tolist()\n\n\nfor i in postal_code:\n    print(i)\n    g = geocoder.arcgis('{}, Toronto, Ontario'.format(i))\n    lat_lng_coords = g.latlng\n    latitude = lat_lng_coords[0]\n    longitude = lat_lng_coords[1]\n    print(latitude, longitude)\n    #Create\n    "
        },
        {
            "cell_type": "code",
            "execution_count": null,
            "metadata": {},
            "outputs": [],
            "source": "\n        print(latitude, latitude)  "
        }
    ],
    "metadata": {
        "kernelspec": {
            "display_name": "Python 3.6",
            "language": "python",
            "name": "python3"
        },
        "language_info": {
            "codemirror_mode": {
                "name": "ipython",
                "version": 3
            },
            "file_extension": ".py",
            "mimetype": "text/x-python",
            "name": "python",
            "nbconvert_exporter": "python",
            "pygments_lexer": "ipython3",
            "version": "3.6.8"
        }
    },
    "nbformat": 4,
    "nbformat_minor": 1
}